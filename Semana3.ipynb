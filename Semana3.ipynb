{
 "cells": [
  {
   "cell_type": "markdown",
   "id": "180f0ffd",
   "metadata": {},
   "source": [
    "#ETL com arquivos legados -> CSV + Postgres\n",
    "\n",
    "Extração"
   ]
  },
  {
   "cell_type": "code",
   "execution_count": 6,
   "id": "976a340e",
   "metadata": {},
   "outputs": [
    {
     "name": "stdout",
     "output_type": "stream",
     "text": [
      "   id_cliente   nome_completo                     email          cidade\n",
      "0         101       Ana Souza       ana.souza@email.com       São Paulo\n",
      "1         102      Bruno Lima      bruno.lima@email.com  Rio de Janeiro\n",
      "2         103    Carla Mendes    carla.mendes@email.com  Belo Horizonte\n",
      "3         104  Diego Ferreira  diego.ferreira@email.com    Porto Alegre\n",
      "4         105   Elisa Martins   elisa.martins@email.com        Curitiba\n",
      "   id_pedido  cliente_ref  valor_total data_compra\n",
      "0       5001          101        250.0  2023-01-10\n",
      "1       5002          101        320.0  2023-03-15\n",
      "2       5003          102        150.0  2023-02-05\n",
      "3       5004          102        180.0  2023-04-12\n",
      "4       5005          102        210.0  2023-06-20\n"
     ]
    }
   ],
   "source": [
    "import pandas as pd\n",
    "\n",
    "clientes = pd.read_csv(\"dataset_semana3/clientes_legado.csv\")\n",
    "pedidos = pd.read_csv(\"dataset_semana3/pedidos_legado.csv\")\n",
    "\n",
    "print(clientes.head())\n",
    "print(pedidos.head())"
   ]
  },
  {
   "cell_type": "markdown",
   "id": "db3f867e",
   "metadata": {},
   "source": [
    "Tranformação"
   ]
  },
  {
   "cell_type": "code",
   "execution_count": 5,
   "id": "8c6ea04e",
   "metadata": {},
   "outputs": [
    {
     "name": "stdout",
     "output_type": "stream",
     "text": [
      "0\n",
      "Empty DataFrame\n",
      "Columns: [id, cliente_id, valor, data_pedido]\n",
      "Index: []\n"
     ]
    }
   ],
   "source": [
    "clientes = clientes.rename(columns={\n",
    "    \"id_cliente\": \"id\",\n",
    "    \"nome_completo\": \"nome\"\n",
    "})\n",
    "\n",
    "pedidos = pedidos.rename(columns={\n",
    "    \"id_pedido\": \"id\",\n",
    "    \"cliente_ref\": \"cliente_id\",\n",
    "    \"valor_total\": \"valor\",\n",
    "    \"data_compra\": \"data_pedido\"\n",
    "})\n",
    "# Conversão de tipos\n",
    "pedidos[\"data_pedido\"] = pd.to_datetime(pedidos[\"data_pedido\"])\n",
    "\n",
    "# Verificações de integridade \n",
    "print(clientes[\"email\"].duplicated().sum())\n",
    "pedidos_invalidos = pedidos[~pedidos[\"cliente_id\"].isin(clientes[\"id\"])]\n",
    "print(pedidos_invalidos)"
   ]
  },
  {
   "cell_type": "markdown",
   "id": "55f727f8",
   "metadata": {},
   "source": [
    "Carga (Load)"
   ]
  },
  {
   "cell_type": "code",
   "execution_count": 8,
   "id": "9191580a",
   "metadata": {},
   "outputs": [
    {
     "data": {
      "text/plain": [
       "11"
      ]
     },
     "execution_count": 8,
     "metadata": {},
     "output_type": "execute_result"
    }
   ],
   "source": [
    "from conexao import get_engine\n",
    "\n",
    "engine = get_engine()\n",
    "\n",
    "# Carregar clientes e pedidos no Postgres\n",
    "clientes.to_sql(\"clientes\", engine, schema=\"etl_course\", if_exists=\"replace\", index=False)\n",
    "pedidos.to_sql(\"pedidos\", engine, schema=\"etl_course\", if_exists=\"replace\", index=False)"
   ]
  }
 ],
 "metadata": {
  "kernelspec": {
   "display_name": "venv",
   "language": "python",
   "name": "python3"
  },
  "language_info": {
   "codemirror_mode": {
    "name": "ipython",
    "version": 3
   },
   "file_extension": ".py",
   "mimetype": "text/x-python",
   "name": "python",
   "nbconvert_exporter": "python",
   "pygments_lexer": "ipython3",
   "version": "3.13.6"
  }
 },
 "nbformat": 4,
 "nbformat_minor": 5
}
