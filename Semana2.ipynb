{
 "cells": [
  {
   "cell_type": "code",
   "execution_count": 2,
   "id": "2e95747c",
   "metadata": {},
   "outputs": [
    {
     "name": "stdout",
     "output_type": "stream",
     "text": [
      "   id            nome                     email          cidade\n",
      "0   1       Ana Souza       ana.souza@email.com       São Paulo\n",
      "1   2      Bruno Lima      bruno.lima@email.com  Rio de Janeiro\n",
      "2   3    Carla Mendes    carla.mendes@email.com  Belo Horizonte\n",
      "3   4  Diego Ferreira  diego.ferreira@email.com    Porto Alegre\n",
      "4   5   Elisa Martins   elisa.martins@email.com        Curitiba\n",
      "   id  cliente_id  valor data_pedido\n",
      "0   1           1  250.0  2023-01-10\n",
      "1   2           1  320.0  2023-03-15\n",
      "2   3           2  150.0  2023-02-05\n",
      "3   4           2  180.0  2023-04-12\n",
      "4   5           2  210.0  2023-06-20\n"
     ]
    }
   ],
   "source": [
    "import pandas as pd\n",
    "from conexao import get_engine\n",
    "\n",
    "engine = get_engine()\n",
    "\n",
    "# Ler tabelas\n",
    "clientes = pd.read_sql(\"SELECT * FROM etl_course.clientes\", engine)\n",
    "pedidos = pd.read_sql(\"SELECT * FROM etl_course.pedidos\", engine)\n",
    "\n",
    "print(clientes.head())\n",
    "print(pedidos.head())"
   ]
  },
  {
   "cell_type": "markdown",
   "id": "74037c17",
   "metadata": {},
   "source": [
    "Valor total por cliente"
   ]
  },
  {
   "cell_type": "code",
   "execution_count": 5,
   "id": "42256e53",
   "metadata": {},
   "outputs": [
    {
     "name": "stdout",
     "output_type": "stream",
     "text": [
      "   cliente_id   valor\n",
      "0           1   570.0\n",
      "1           2   540.0\n",
      "2           3  1550.0\n",
      "3           4   220.0\n",
      "4           5   900.0\n",
      "   id            nome                     email          cidade  cliente_id  \\\n",
      "0   1       Ana Souza       ana.souza@email.com       São Paulo           1   \n",
      "1   2      Bruno Lima      bruno.lima@email.com  Rio de Janeiro           2   \n",
      "2   3    Carla Mendes    carla.mendes@email.com  Belo Horizonte           3   \n",
      "3   4  Diego Ferreira  diego.ferreira@email.com    Porto Alegre           4   \n",
      "4   5   Elisa Martins   elisa.martins@email.com        Curitiba           5   \n",
      "\n",
      "    valor  \n",
      "0   570.0  \n",
      "1   540.0  \n",
      "2  1550.0  \n",
      "3   220.0  \n",
      "4   900.0  \n",
      "             nome   valor\n",
      "0       Ana Souza   570.0\n",
      "1      Bruno Lima   540.0\n",
      "2    Carla Mendes  1550.0\n",
      "3  Diego Ferreira   220.0\n",
      "4   Elisa Martins   900.0\n"
     ]
    }
   ],
   "source": [
    "valor_total = pedidos.groupby(\"cliente_id\")[\"valor\"].sum().reset_index()\n",
    "print(valor_total)\n",
    "df = clientes.merge(valor_total, left_on=\"id\", right_on=\"cliente_id\", how=\"left\")\n",
    "print(df)\n",
    "print(df[[\"nome\", \"valor\"]])"
   ]
  },
  {
   "cell_type": "markdown",
   "id": "df47cdd7",
   "metadata": {},
   "source": [
    "Primeiro pedido por cliente"
   ]
  },
  {
   "cell_type": "code",
   "execution_count": 6,
   "id": "e18a8caf",
   "metadata": {},
   "outputs": [
    {
     "name": "stdout",
     "output_type": "stream",
     "text": [
      "    id  cliente_id  valor data_pedido primeiro_pedido\n",
      "0    1           1  250.0  2023-01-10      2023-01-10\n",
      "1    2           1  320.0  2023-03-15      2023-01-10\n",
      "2    3           2  150.0  2023-02-05      2023-02-05\n",
      "3    4           2  180.0  2023-04-12      2023-02-05\n",
      "4    5           2  210.0  2023-06-20      2023-02-05\n",
      "5    6           3  500.0  2023-01-25      2023-01-25\n",
      "6    7           3  700.0  2023-02-28      2023-01-25\n",
      "7    8           3  350.0  2023-05-10      2023-01-25\n",
      "8    9           4  100.0  2023-03-02      2023-03-02\n",
      "9   10           4  120.0  2023-05-18      2023-03-02\n",
      "10  11           5  900.0  2023-02-14      2023-02-14\n"
     ]
    }
   ],
   "source": [
    "pedidos[\"primeiro_pedido\"] = pedidos.groupby(\"cliente_id\")[\"data_pedido\"].transform(\"min\")\n",
    "print(pedidos)"
   ]
  },
  {
   "cell_type": "markdown",
   "id": "d249dc30",
   "metadata": {},
   "source": [
    "Diferença em dias entre pedidos"
   ]
  },
  {
   "cell_type": "code",
   "execution_count": 7,
   "id": "8671d442",
   "metadata": {},
   "outputs": [
    {
     "name": "stdout",
     "output_type": "stream",
     "text": [
      "    id  cliente_id  valor data_pedido primeiro_pedido  dias_diff\n",
      "0    1           1  250.0  2023-01-10      2023-01-10        NaN\n",
      "1    2           1  320.0  2023-03-15      2023-01-10       64.0\n",
      "2    3           2  150.0  2023-02-05      2023-02-05        NaN\n",
      "3    4           2  180.0  2023-04-12      2023-02-05       66.0\n",
      "4    5           2  210.0  2023-06-20      2023-02-05       69.0\n",
      "5    6           3  500.0  2023-01-25      2023-01-25        NaN\n",
      "6    7           3  700.0  2023-02-28      2023-01-25       34.0\n",
      "7    8           3  350.0  2023-05-10      2023-01-25       71.0\n",
      "8    9           4  100.0  2023-03-02      2023-03-02        NaN\n",
      "9   10           4  120.0  2023-05-18      2023-03-02       77.0\n",
      "10  11           5  900.0  2023-02-14      2023-02-14        NaN\n"
     ]
    }
   ],
   "source": [
    "pedidos[\"data_pedido\"] = pd.to_datetime(pedidos[\"data_pedido\"])\n",
    "pedidos[\"dias_diff\"] = pedidos.groupby(\"cliente_id\")[\"data_pedido\"].diff().dt.days\n",
    "print(pedidos)"
   ]
  },
  {
   "cell_type": "markdown",
   "id": "981aa537",
   "metadata": {},
   "source": [
    "E-mails duplicados"
   ]
  },
  {
   "cell_type": "code",
   "execution_count": 7,
   "id": "344f8242",
   "metadata": {},
   "outputs": [
    {
     "name": "stdout",
     "output_type": "stream",
     "text": [
      "0\n",
      "0    False\n",
      "1    False\n",
      "2    False\n",
      "3    False\n",
      "4    False\n",
      "Name: email, dtype: bool\n"
     ]
    }
   ],
   "source": [
    "print(clientes[\"email\"].duplicated().sum())\n",
    "print(clientes[\"email\"].duplicated(keep=False))"
   ]
  },
  {
   "cell_type": "markdown",
   "id": "b2404a84",
   "metadata": {},
   "source": [
    "Pedidos com Clientes inexistentes\n"
   ]
  },
  {
   "cell_type": "code",
   "execution_count": 8,
   "id": "f83c02ca",
   "metadata": {},
   "outputs": [
    {
     "name": "stdout",
     "output_type": "stream",
     "text": [
      "Empty DataFrame\n",
      "Columns: [id, cliente_id, valor, data_pedido]\n",
      "Index: []\n"
     ]
    }
   ],
   "source": [
    "pedidos_invalidos = pedidos[~pedidos[\"cliente_id\"].isin(clientes[\"id\"])]\n",
    "print(pedidos_invalidos)"
   ]
  }
 ],
 "metadata": {
  "kernelspec": {
   "display_name": "venv",
   "language": "python",
   "name": "python3"
  },
  "language_info": {
   "codemirror_mode": {
    "name": "ipython",
    "version": 3
   },
   "file_extension": ".py",
   "mimetype": "text/x-python",
   "name": "python",
   "nbconvert_exporter": "python",
   "pygments_lexer": "ipython3",
   "version": "3.13.6"
  }
 },
 "nbformat": 4,
 "nbformat_minor": 5
}
